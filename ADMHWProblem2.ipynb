{
  "nbformat": 4,
  "nbformat_minor": 0,
  "metadata": {
    "colab": {
      "provenance": []
    },
    "kernelspec": {
      "name": "python3",
      "display_name": "Python 3"
    },
    "language_info": {
      "name": "python"
    }
  },
  "cells": [
    {
      "cell_type": "markdown",
      "source": [
        "##### Samrawit Mulugeta Mewa\n",
        "##### mewasamrawit@gmail.com\n",
        "##### 2187463"
      ],
      "metadata": {
        "id": "DholL5bjZa9h"
      }
    },
    {
      "cell_type": "markdown",
      "source": [
        "# Birthday Cake Candles"
      ],
      "metadata": {
        "id": "moPUss5rkOkO"
      }
    },
    {
      "cell_type": "code",
      "execution_count": null,
      "metadata": {
        "colab": {
          "base_uri": "https://localhost:8080/"
        },
        "id": "ioa8Y8irjrLq",
        "outputId": "4d938672-53b7-4f11-e18e-63f0b209948a"
      },
      "outputs": [
        {
          "name": "stdout",
          "output_type": "stream",
          "text": [
            "6\n",
            "1 1 2 2 3 3\n"
          ]
        }
      ],
      "source": [
        "#!/bin/python3\n",
        "\n",
        "import math\n",
        "import os\n",
        "import random\n",
        "import re\n",
        "import sys\n",
        "\n",
        "#\n",
        "# Complete the 'birthdayCakeCandles' function below.\n",
        "#\n",
        "# The function is expected to return an INTEGER.\n",
        "# The function accepts INTEGER_ARRAY candles as parameter.\n",
        "#\n",
        "\n",
        "def birthdayCakeCandles(candles):\n",
        "    # Sorting the array\n",
        "    sorted_candles = sorted(candles)\n",
        "    # Counting the max item\n",
        "    max_count = candles.count(sorted_candles[-1])\n",
        "\n",
        "    return max_count\n",
        "\n",
        "\n",
        "def main():\n",
        "\n",
        "    fptr = open('output_file.txt', 'w')\n",
        "\n",
        "    candles_count = int(input().strip())\n",
        "\n",
        "    candles = list(map(int, input().rstrip().split()))\n",
        "\n",
        "    result = birthdayCakeCandles(candles)\n",
        "\n",
        "    fptr.write(str(result) + '\\n')\n",
        "\n",
        "    fptr.close()\n",
        "\n",
        "\n",
        "main()\n",
        "\n"
      ]
    },
    {
      "cell_type": "markdown",
      "source": [
        "# Number Line Jumps"
      ],
      "metadata": {
        "id": "T1AbnL0CpZ0I"
      }
    },
    {
      "cell_type": "code",
      "source": [
        "#!/bin/python3\n",
        "\n",
        "import math\n",
        "import os\n",
        "import random\n",
        "import re\n",
        "import sys\n",
        "\n",
        "#\n",
        "# Complete the 'kangaroo' function below.\n",
        "#\n",
        "# The function is expected to return a STRING.\n",
        "# The function accepts following parameters:\n",
        "#  1. INTEGER x1\n",
        "#  2. INTEGER v1\n",
        "#  3. INTEGER x2\n",
        "#  4. INTEGER v2\n",
        "#\n",
        "\n",
        "def kangaroo(x1, v1, x2, v2):\n",
        "\n",
        "    # based on the x1, x2 value constraint\n",
        "    # defined the max_jump\n",
        "    max_jumps = 10000\n",
        "\n",
        "    for i in range(max_jumps):\n",
        "\n",
        "      # starts from the inital given point\n",
        "      # and for each jump it lands to the\n",
        "      # next pos with the rate of v1/v2\n",
        "\n",
        "      first_kangaroo_pos = x1 + v1 * i\n",
        "\n",
        "      second_kangaroo_pos = x2 + v2 * i\n",
        "\n",
        "      # for the simulated jumps, it checks\n",
        "      # if they (first and second kangaroo)\n",
        "      # are going to reach the same pos\n",
        "      if first_kangaroo_pos == second_kangaroo_pos:\n",
        "        return \"YES\"\n",
        "\n",
        "    return \"NO\"\n",
        "\n",
        "if __name__ == '__main__':\n",
        "\n",
        "    fptr = open('output_file.txt', 'w')\n",
        "\n",
        "    first_multiple_input = input().rstrip().split()\n",
        "\n",
        "    x1 = int(first_multiple_input[0])\n",
        "\n",
        "    v1 = int(first_multiple_input[1])\n",
        "\n",
        "    x2 = int(first_multiple_input[2])\n",
        "\n",
        "    v2 = int(first_multiple_input[3])\n",
        "\n",
        "    result = kangaroo(x1, v1, x2, v2)\n",
        "\n",
        "    fptr.write(str(result) + '\\n')\n",
        "\n",
        "    fptr.close()\n",
        "\n"
      ],
      "metadata": {
        "colab": {
          "base_uri": "https://localhost:8080/"
        },
        "id": "GW6KOd46lRZ_",
        "outputId": "3f79345c-f816-4aff-8cea-53853a9c8ba2"
      },
      "execution_count": null,
      "outputs": [
        {
          "name": "stdout",
          "output_type": "stream",
          "text": [
            "0 2 3 6\n"
          ]
        }
      ]
    },
    {
      "cell_type": "markdown",
      "source": [
        "# Viral Advertising\n"
      ],
      "metadata": {
        "id": "pYhmbbNkrkTY"
      }
    },
    {
      "cell_type": "code",
      "source": [
        "#!/bin/python3\n",
        "\n",
        "import math\n",
        "import os\n",
        "import random\n",
        "import re\n",
        "import sys\n",
        "\n",
        "#\n",
        "# Complete the 'viralAdvertising' function below.\n",
        "#\n",
        "# The function is expected to return an INTEGER.\n",
        "# The function accepts INTEGER n as parameter.\n",
        "#\n",
        "\n",
        "def viralAdvertising(n):\n",
        "\n",
        "    shared = 5\n",
        "    liked = 5 // 2\n",
        "    cumulative = 2\n",
        "\n",
        "    for i in range (1, n):\n",
        "      shared = liked * 3\n",
        "      liked = shared // 2\n",
        "      cumulative += liked\n",
        "\n",
        "    return cumulative\n",
        "\n",
        "if __name__ == '__main__':\n",
        "    fptr = open('output_file.txt', 'w')\n",
        "\n",
        "    n = int(input().strip())\n",
        "\n",
        "    result = viralAdvertising(n)\n",
        "\n",
        "    fptr.write(str(result) + '\\n')\n",
        "\n",
        "    fptr.close()\n"
      ],
      "metadata": {
        "colab": {
          "base_uri": "https://localhost:8080/"
        },
        "id": "o4rpGlTlqbtS",
        "outputId": "15c0a31d-0b77-4d65-f011-86d323c8150e"
      },
      "execution_count": null,
      "outputs": [
        {
          "name": "stdout",
          "output_type": "stream",
          "text": [
            "6\n"
          ]
        }
      ]
    },
    {
      "cell_type": "markdown",
      "source": [
        "# Recursive Digit Sum"
      ],
      "metadata": {
        "id": "mDKfoftus5Cm"
      }
    },
    {
      "cell_type": "code",
      "source": [
        "#!/bin/python3\n",
        "\n",
        "import math\n",
        "import os\n",
        "import random\n",
        "import re\n",
        "import sys\n",
        "\n",
        "#\n",
        "# Complete the 'superDigit' function below.\n",
        "#\n",
        "# The function is expected to return an INTEGER.\n",
        "# The function accepts following parameters:\n",
        "#  1. STRING n\n",
        "#  2. INTEGER k\n",
        "#\n",
        "\n",
        "def superDigit(n, k):\n",
        "\n",
        "    modified_str = str(n) * k\n",
        "\n",
        "    modified_list = list(map(int, modified_str))\n",
        "\n",
        "    while len(modified_list) > 1:\n",
        "\n",
        "      sum = 0\n",
        "\n",
        "      for i in modified_list:\n",
        "\n",
        "        sum += i\n",
        "\n",
        "      modified_list = list(map(int, str(sum)))\n",
        "\n",
        "      len_list = str(sum)\n",
        "\n",
        "    return sum\n",
        "\n",
        "\n",
        "\n",
        "if __name__ == '__main__':\n",
        "    fptr = open('output_file.txt', 'w')\n",
        "\n",
        "    first_multiple_input = input().rstrip().split()\n",
        "\n",
        "    n = first_multiple_input[0]\n",
        "\n",
        "    k = int(first_multiple_input[1])\n",
        "\n",
        "    result = superDigit(n, k)\n",
        "\n",
        "    fptr.write(str(result) + '\\n')\n",
        "\n",
        "    fptr.close()\n"
      ],
      "metadata": {
        "colab": {
          "base_uri": "https://localhost:8080/"
        },
        "id": "ags-PZzgsT0k",
        "outputId": "d28eb1bc-cb96-43cb-c23e-ce1eb1b24d0b"
      },
      "execution_count": null,
      "outputs": [
        {
          "name": "stdout",
          "output_type": "stream",
          "text": [
            "123 3\n"
          ]
        }
      ]
    },
    {
      "cell_type": "markdown",
      "source": [
        "# Insertion Sort - Part 1\n"
      ],
      "metadata": {
        "id": "RVMeiQz8tuhd"
      }
    },
    {
      "cell_type": "code",
      "source": [
        "#!/bin/python3\n",
        "\n",
        "import math\n",
        "import os\n",
        "import random\n",
        "import re\n",
        "import sys\n",
        "\n",
        "#\n",
        "# Complete the 'insertionSort1' function below.\n",
        "#\n",
        "# The function accepts following parameters:\n",
        "#  1. INTEGER n\n",
        "#  2. INTEGER_ARRAY arr\n",
        "#\n",
        "\n",
        "def insertionSort1(n, arr):\n",
        "    # store the last item\n",
        "    last_item = arr[-1]\n",
        "\n",
        "    count = 0\n",
        "    # start comparing from the left\n",
        "    for i in range(len(arr)-2, -1, -1):\n",
        "        # compare with the front\n",
        "         # if last_item is less then\n",
        "         # insert the front to the\n",
        "         # position of it's index + 1\n",
        "         # and place the last item\n",
        "         # to the position of the front\n",
        "\n",
        "        if last_item < arr[i]:\n",
        "\n",
        "            arr[i+1] = arr[i]\n",
        "            arr[i] = arr[i]\n",
        "\n",
        "            result =list( map(str, arr))\n",
        "            print(' '.join(result))\n",
        "            count += 1\n",
        "\n",
        "        if last_item < arr[i] and last_item > arr[i-1]:\n",
        "            arr[i] = last_item\n",
        "            result =list( map(str, arr))\n",
        "            print(' '.join(result))\n",
        "\n",
        "\n",
        "    # check if there is a single iteration\n",
        "    # remaining as all the items are less\n",
        "    # than the last_item\n",
        "\n",
        "    if count + 1 == len(arr):\n",
        "        arr[0] = last_item\n",
        "        result =list( map(str, arr))\n",
        "        print(' '.join(result))\n",
        "\n",
        "\n",
        "\n",
        "if __name__ == '__main__':\n",
        "    n = int(input().strip())\n",
        "\n",
        "    arr = list(map(int, input().rstrip().split()))\n",
        "\n",
        "    insertionSort1(n, arr)\n"
      ],
      "metadata": {
        "colab": {
          "base_uri": "https://localhost:8080/"
        },
        "id": "SPR98UCRtRt_",
        "outputId": "af910bb9-b69d-43c0-8889-16e0ddfef8ff"
      },
      "execution_count": null,
      "outputs": [
        {
          "output_type": "stream",
          "name": "stdout",
          "text": [
            "10\n",
            "2 3 4 5 6 7 8 9 10 1\n",
            "2 3 4 5 6 7 8 9 10 10\n",
            "2 3 4 5 6 7 8 9 9 10\n",
            "2 3 4 5 6 7 8 8 9 10\n",
            "2 3 4 5 6 7 7 8 9 10\n",
            "2 3 4 5 6 6 7 8 9 10\n",
            "2 3 4 5 5 6 7 8 9 10\n",
            "2 3 4 4 5 6 7 8 9 10\n",
            "2 3 3 4 5 6 7 8 9 10\n",
            "2 2 3 4 5 6 7 8 9 10\n",
            "1 2 3 4 5 6 7 8 9 10\n"
          ]
        }
      ]
    },
    {
      "cell_type": "markdown",
      "source": [
        "# Insertion Sort - Part 2\n"
      ],
      "metadata": {
        "id": "QaAadSv4CAes"
      }
    },
    {
      "cell_type": "code",
      "source": [
        "#!/bin/python3\n",
        "\n",
        "import math\n",
        "import os\n",
        "import random\n",
        "import re\n",
        "import sys\n",
        "\n",
        "#\n",
        "# Complete the 'insertionSort2' function below.\n",
        "#\n",
        "# The function accepts following parameters:\n",
        "#  1. INTEGER n\n",
        "#  2. INTEGER_ARRAY arr\n",
        "#\n",
        "\n",
        "def insertionSort2(n, arr):\n",
        "\n",
        "    for i in range(1, len(arr)):\n",
        "      for j in range(i, 0, -1):\n",
        "\n",
        "        if arr[j] < arr[j -1]:\n",
        "          temp = arr[j]\n",
        "          arr[j] = arr[j-1]\n",
        "          arr[j-1] = temp\n",
        "\n",
        "\n",
        "      result = list(map(str, arr))\n",
        "      print(' '.join(result))\n",
        "\n",
        "\n",
        "if __name__ == '__main__':\n",
        "    n = int(input().strip())\n",
        "\n",
        "    arr = list(map(int, input().rstrip().split()))\n",
        "\n",
        "    insertionSort2(n, arr)\n"
      ],
      "metadata": {
        "colab": {
          "base_uri": "https://localhost:8080/"
        },
        "id": "gL97i0TXvqsS",
        "outputId": "0ca58dcb-f240-4a19-cf54-28a247dc1495"
      },
      "execution_count": null,
      "outputs": [
        {
          "output_type": "stream",
          "name": "stdout",
          "text": [
            "6\n",
            "1 4 3 5 6 2\n",
            "1 4 3 5 6 2\n",
            "1 3 4 5 6 2\n",
            "1 3 4 5 6 2\n",
            "1 3 4 5 6 2\n",
            "1 2 3 4 5 6\n"
          ]
        }
      ]
    },
    {
      "cell_type": "code",
      "source": [],
      "metadata": {
        "id": "9gncvALLDBqq"
      },
      "execution_count": null,
      "outputs": []
    }
  ]
}