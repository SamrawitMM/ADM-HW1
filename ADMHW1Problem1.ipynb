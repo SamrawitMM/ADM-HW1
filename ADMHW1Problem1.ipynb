{
  "nbformat": 4,
  "nbformat_minor": 0,
  "metadata": {
    "colab": {
      "provenance": []
    },
    "kernelspec": {
      "name": "python3",
      "display_name": "Python 3"
    },
    "language_info": {
      "name": "python"
    }
  },
  "cells": [
    {
      "cell_type": "markdown",
      "source": [
        "##### Samrawit Mulugeta Mewa\n",
        "##### mewasamrawit@gmail.com\n",
        "##### 2187463"
      ],
      "metadata": {
        "id": "-6gLo9TZYwX3"
      }
    },
    {
      "cell_type": "markdown",
      "source": [
        "# Introduction"
      ],
      "metadata": {
        "id": "WXRVeiEXGNsS"
      }
    },
    {
      "cell_type": "markdown",
      "source": [
        "#### Say \"Hello, World!\" With Python"
      ],
      "metadata": {
        "id": "rxmbOxQQO-XA"
      }
    },
    {
      "cell_type": "code",
      "source": [
        "print(\"Hello, World!\")"
      ],
      "metadata": {
        "id": "3zqXIOBPPD0X"
      },
      "execution_count": null,
      "outputs": []
    },
    {
      "cell_type": "markdown",
      "source": [
        "#### Python If-Else"
      ],
      "metadata": {
        "id": "4crk7EG5PEop"
      }
    },
    {
      "cell_type": "code",
      "source": [
        "import math\n",
        "import os\n",
        "import random\n",
        "import re\n",
        "import sys\n",
        "\n",
        "\n",
        "\n",
        "if __name__ == '__main__':\n",
        "    n = int(input().strip())\n",
        "    if (n > 0 or n < 101):\n",
        "        if not (n % 2 == 0):\n",
        "            print('Weird')\n",
        "        elif (n % 2 == 0) and (n > 1 and n < 6):\n",
        "            print('Not Weird')\n",
        "        elif(n % 2 == 0) and (n > 5 and n < 21):\n",
        "            print('Weird')\n",
        "        elif(n % 2 == 0) and n > 20:\n",
        "            print('Not Weird')\n",
        "    else:\n",
        "        print(\"Constraint not fulfilled\")\n"
      ],
      "metadata": {
        "id": "Z_fmMO1APLcX"
      },
      "execution_count": null,
      "outputs": []
    },
    {
      "cell_type": "markdown",
      "source": [
        "#### Arithmetic Operations"
      ],
      "metadata": {
        "id": "O9dD6ncwPMr4"
      }
    },
    {
      "cell_type": "code",
      "source": [
        "if __name__ == '__main__':\n",
        "    a = int(input())\n",
        "    b = int(input())\n",
        "\n",
        "    if (((a and b) > 0) and ((a and b) < (10**10)+1)):\n",
        "        print(a + b)\n",
        "        print(a - b)\n",
        "        print(a*b)\n",
        "\n",
        "    else:\n",
        "        print('Constraint not fulfilled')\n",
        "\n",
        "\n"
      ],
      "metadata": {
        "id": "Wco3YJGxPUm1"
      },
      "execution_count": null,
      "outputs": []
    },
    {
      "cell_type": "markdown",
      "source": [
        "#### Python: Division"
      ],
      "metadata": {
        "id": "GVQOO7qRPVxa"
      }
    },
    {
      "cell_type": "code",
      "source": [
        "if __name__ == '__main__':\n",
        "    a = int(input())\n",
        "    b = int(input())\n",
        "\n",
        "    print(a//b)\n",
        "    print(a/b)\n"
      ],
      "metadata": {
        "id": "AVnRVywFPdje"
      },
      "execution_count": null,
      "outputs": []
    },
    {
      "cell_type": "markdown",
      "source": [
        "#### Loops"
      ],
      "metadata": {
        "id": "5qwY7avrPffG"
      }
    },
    {
      "cell_type": "code",
      "source": [
        "if __name__ == '__main__':\n",
        "    n = int(input())\n",
        "\n",
        "    if (n > 0 and n < 21):\n",
        "        for i in range(n):\n",
        "            print(i**2)\n",
        "    else:\n",
        "        print('Constraint not fulfilled')\n"
      ],
      "metadata": {
        "id": "bsJGwxpuPkkN"
      },
      "execution_count": null,
      "outputs": []
    },
    {
      "cell_type": "markdown",
      "source": [
        "#### Write a function"
      ],
      "metadata": {
        "id": "HNvbyCwVPlcy"
      }
    },
    {
      "cell_type": "code",
      "source": [
        "def is_leap(year):\n",
        "    leap = False\n",
        "\n",
        "    # Write your logic here\n",
        "    if (year > 1899 and year < (10 ** 5) + 1):\n",
        "        if (year % 4 == 0):\n",
        "            if (year % 100 == 0):\n",
        "                if (year % 400 == 0):\n",
        "                    leap = True\n",
        "                else:\n",
        "                    leap = False\n",
        "            else:\n",
        "                leap = True\n",
        "        else:\n",
        "            leap = False\n",
        "    else:\n",
        "        print('Constraint not fulfilled')\n",
        "\n",
        "    return leap\n",
        "\n",
        "year = int(input())"
      ],
      "metadata": {
        "id": "xSVa6JKJP3dJ"
      },
      "execution_count": null,
      "outputs": []
    },
    {
      "cell_type": "markdown",
      "source": [
        "#### Print Function"
      ],
      "metadata": {
        "id": "aVcwkWhFP4X7"
      }
    },
    {
      "cell_type": "code",
      "source": [
        "def print_numbers(n):\n",
        "    if 0 < n < 151:\n",
        "        print(''.join([str(i) for i in range(1, n+1)]))\n",
        "    else:\n",
        "        print('Constraint not fulfilled')\n",
        "\n",
        "\n",
        "if __name__ == '__main__':\n",
        "    n = int(input())\n",
        "    print_numbers(n)\n",
        "\n"
      ],
      "metadata": {
        "colab": {
          "base_uri": "https://localhost:8080/"
        },
        "id": "tRJ6TPbwP99p",
        "outputId": "499c4d3f-df84-4223-b6fb-f059c3cdf96a"
      },
      "execution_count": 11,
      "outputs": [
        {
          "output_type": "stream",
          "name": "stdout",
          "text": [
            "10\n",
            "12345678910\n"
          ]
        }
      ]
    },
    {
      "cell_type": "markdown",
      "source": [
        "# Basic Data Types"
      ],
      "metadata": {
        "id": "BbNK4UNwW59R"
      }
    },
    {
      "cell_type": "markdown",
      "source": [
        "#### List Comprehensions"
      ],
      "metadata": {
        "id": "JtAAE2PcTgMm"
      }
    },
    {
      "cell_type": "code",
      "source": [
        "if __name__ == '__main__':\n",
        "    x = int(input())\n",
        "    y = int(input())\n",
        "    z = int(input())\n",
        "    n = int(input())\n",
        "\n",
        "    possible_arr = [[i, j, k] for i in range(x+1) for j in range(y+1) for k in range(z+1) if (i + j + k) != n]\n",
        "\n",
        "    print(possible_arr)\n"
      ],
      "metadata": {
        "id": "Ebni1wrfTj3m"
      },
      "execution_count": null,
      "outputs": []
    },
    {
      "cell_type": "markdown",
      "source": [
        "#### Find the Runner-Up Score!"
      ],
      "metadata": {
        "id": "cbb-OuYiP-7v"
      }
    },
    {
      "cell_type": "code",
      "source": [
        "def insSort(arr):\n",
        "    \"\"\"Insertion sort algorithm.\"\"\"\n",
        "    for i in range(len(arr)):\n",
        "        temp = arr[i]\n",
        "        j = i - 1\n",
        "\n",
        "        while j > -1 and arr[j] > temp:\n",
        "            arr[j + 1] = arr[j]\n",
        "            j -= 1\n",
        "        arr[j + 1] = temp\n",
        "\n",
        "    return arr\n",
        "\n",
        "def find_runner_up_score(myList):\n",
        "    \"\"\"Find the runner-up score in the sorted list.\"\"\"\n",
        "    mySortedArr = insSort(myList)\n",
        "    highest_score = mySortedArr[-1]\n",
        "\n",
        "    # Initialize runner_up_score as None\n",
        "    runner_up_score = None\n",
        "\n",
        "    # Loop backwards to find the runner-up score\n",
        "    for score in reversed(mySortedArr):\n",
        "        if score < highest_score:\n",
        "            runner_up_score = score\n",
        "            break\n",
        "\n",
        "    return runner_up_score\n",
        "\n",
        "if __name__ == '__main__':\n",
        "    n = int(input())\n",
        "\n",
        "    # Validate constraints\n",
        "    if 1 < n < 11:\n",
        "        arr = list(map(int, input().split()))\n",
        "\n",
        "        # Validate individual scores\n",
        "        if all(-101 < score < 101 for score in arr):\n",
        "            runner_up_score = find_runner_up_score(arr)\n",
        "            if runner_up_score is not None:\n",
        "                print(runner_up_score)\n",
        "            else:\n",
        "                print(\"No runner-up score found.\")\n",
        "        else:\n",
        "            print('Constraint not fulfilled')\n",
        "    else:\n",
        "        print('Constraint not fulfilled')\n"
      ],
      "metadata": {
        "colab": {
          "base_uri": "https://localhost:8080/"
        },
        "id": "jc9qbUSYQEy2",
        "outputId": "80b7ce9a-c570-4486-8dbf-e29e8e366a22"
      },
      "execution_count": 6,
      "outputs": [
        {
          "output_type": "stream",
          "name": "stdout",
          "text": [
            "5\n",
            "2 3 6 6 5\n",
            "5\n"
          ]
        }
      ]
    },
    {
      "cell_type": "markdown",
      "source": [
        "#### Nested Lists"
      ],
      "metadata": {
        "id": "I6UwiMkSRNxP"
      }
    },
    {
      "cell_type": "code",
      "source": [
        "def insertion_sort(arr):\n",
        "    \"\"\"Sorts an array using insertion sort in ascending order.\"\"\"\n",
        "    for i in range(len(arr)):\n",
        "        key = arr[i]\n",
        "        j = i - 1\n",
        "\n",
        "        while j >= 0 and arr[j] > key:\n",
        "            arr[j + 1] = arr[j]\n",
        "            j -= 1\n",
        "        arr[j + 1] = key\n",
        "\n",
        "    return arr\n",
        "\n",
        "def find_second_lowest_score(scores):\n",
        "    \"\"\"Finds the second lowest unique score from a sorted list of scores.\"\"\"\n",
        "    unique_scores = list(set(scores))  # Remove duplicates\n",
        "    sorted_scores = insertion_sort(unique_scores)  # Sort unique scores\n",
        "\n",
        "    if len(sorted_scores) > 1:\n",
        "        return sorted_scores[1]  # Return the second lowest score\n",
        "    return None\n",
        "\n",
        "if __name__ == '__main__':\n",
        "    students = []  # List to hold student name and score pairs\n",
        "\n",
        "    # Read input for the number of students\n",
        "    for _ in range(int(input())):\n",
        "        name = input()\n",
        "        score = float(input())\n",
        "        students.append([name, score])\n",
        "\n",
        "    # Check for valid number of students\n",
        "    if 1 < len(students) < 6:\n",
        "        scores = [student[1] for student in students]  # Extract scores\n",
        "        second_lowest_score = find_second_lowest_score(scores)  # Find second lowest score\n",
        "\n",
        "        if second_lowest_score is not None:\n",
        "            # Get names of students with the second lowest score\n",
        "            names_with_second_lowest = [student[0] for student in students if student[1] == second_lowest_score]\n",
        "            names_with_second_lowest.sort()  # Sort names alphabetically\n",
        "\n",
        "            # Print each name\n",
        "            for name in names_with_second_lowest:\n",
        "                print(name)\n",
        "        else:\n",
        "            print(\"No second lowest score found.\")\n",
        "    else:\n",
        "        print('Constraint not fulfilled')\n"
      ],
      "metadata": {
        "colab": {
          "base_uri": "https://localhost:8080/"
        },
        "id": "qTO9Y1q0RTES",
        "outputId": "eaf3aa9c-56ba-4ce9-829c-51850126a516"
      },
      "execution_count": 7,
      "outputs": [
        {
          "output_type": "stream",
          "name": "stdout",
          "text": [
            "5\n",
            "Harry\n",
            "37.21\n",
            "Berry\n",
            "37.21\n",
            "Tina\n",
            "37.2\n",
            "Akriti\n",
            "41\n",
            "Harsh\n",
            "39\n",
            "Berry\n",
            "Harry\n"
          ]
        }
      ]
    },
    {
      "cell_type": "markdown",
      "source": [
        "#### Finding the percentage"
      ],
      "metadata": {
        "id": "D3Zv_BgQSGbC"
      }
    },
    {
      "cell_type": "code",
      "source": [
        "def average(marks):\n",
        "    \"\"\"Calculates the average of the provided marks list if constraints are met.\"\"\"\n",
        "    if len(marks) != 3:\n",
        "        print('Constraint not fulfilled: There should be exactly 3 marks.')\n",
        "        return None\n",
        "\n",
        "    total = 0\n",
        "    count = 0\n",
        "\n",
        "    # Validate that each mark is between 0 and 100\n",
        "    for mark in marks:\n",
        "        if 0 <= mark <= 100:\n",
        "            total += mark\n",
        "            count += 1\n",
        "        else:\n",
        "            print('Constraint not fulfilled: Marks must be between 0 and 100.')\n",
        "            return None\n",
        "\n",
        "    # Ensure all marks are valid\n",
        "    if count == 3:\n",
        "        return total / count\n",
        "    else:\n",
        "        print('Constraint not fulfilled: Invalid number of valid marks.')\n",
        "        return None\n",
        "\n",
        "if __name__ == '__main__':\n",
        "    # Input number of students\n",
        "    n = int(input())\n",
        "\n",
        "    # Dictionary to store student marks\n",
        "    student_marks = {}\n",
        "\n",
        "    # Input for each student: their name followed by their 3 marks\n",
        "    for _ in range(n):\n",
        "        name, *line = input().split()\n",
        "        scores = list(map(float, line))\n",
        "        student_marks[name] = scores\n",
        "\n",
        "    # Query for the student's name to calculate average\n",
        "    query_name = input()\n",
        "\n",
        "    # Validate that the number of students is between 2 and 10\n",
        "    if 2 <= len(student_marks) <= 10:\n",
        "        # Check if the queried name exists in the student records\n",
        "        if query_name in student_marks:\n",
        "            avg = average(student_marks[query_name])\n",
        "            if avg is not None:\n",
        "                # Print the average rounded to 2 decimal places\n",
        "                print(f\"{avg:.2f}\")\n",
        "        else:\n",
        "            print(\"Student not found.\")\n",
        "    else:\n",
        "        print('Constraint not fulfilled: The number of students must be between 2 and 10.')\n"
      ],
      "metadata": {
        "colab": {
          "base_uri": "https://localhost:8080/"
        },
        "id": "gD7HsClLSI4f",
        "outputId": "c0d96f39-8c5c-4678-9ec0-cb68ccc39321"
      },
      "execution_count": 9,
      "outputs": [
        {
          "output_type": "stream",
          "name": "stdout",
          "text": [
            "3\n",
            "Krishna 67 68 69\n",
            "Arjun 70 98 63\n",
            "Malika 52 56 60\n",
            "Malika\n",
            "56.00\n"
          ]
        }
      ]
    },
    {
      "cell_type": "markdown",
      "source": [
        "#### Lists"
      ],
      "metadata": {
        "id": "jsxfnYFjSjUZ"
      }
    },
    {
      "cell_type": "code",
      "source": [
        "if __name__ == '__main__':\n",
        "    N = int(input())\n",
        "    temp = []\n",
        "\n",
        "\n",
        "    for i in range(1, N+1):\n",
        "\n",
        "        command = input().split(' ')\n",
        "        operation = command[0]\n",
        "\n",
        "        if operation == 'append':\n",
        "            temp.append(int(command[1]))\n",
        "        elif operation == 'insert':\n",
        "            temp.insert(int(command[1]), int(command[2]))\n",
        "        elif operation == 'print':\n",
        "            print(temp)\n",
        "        elif operation == 'pop':\n",
        "            temp.pop()\n",
        "        elif operation == 'sort':\n",
        "            temp.sort()\n",
        "        elif operation == 'reverse':\n",
        "            temp.reverse()\n",
        "        elif operation == 'remove':\n",
        "            temp.remove(int(command[1]))\n",
        "        else:\n",
        "            print('none')\n"
      ],
      "metadata": {
        "id": "jkPB9freSs8L"
      },
      "execution_count": null,
      "outputs": []
    },
    {
      "cell_type": "markdown",
      "source": [
        "# Strings"
      ],
      "metadata": {
        "id": "z8kCc8eBXdq5"
      }
    },
    {
      "cell_type": "markdown",
      "source": [
        "#### sWAP cASE"
      ],
      "metadata": {
        "id": "2Runx3eZTM0i"
      }
    },
    {
      "cell_type": "code",
      "source": [
        "def swap_case(s):\n",
        "\n",
        "    updated_char = ''\n",
        "    for char in s:\n",
        "\n",
        "        current_char = char\n",
        "\n",
        "        if char.isalpha() and char.isupper():\n",
        "            current_char = char.lower()\n",
        "        elif char.isalpha() and char.islower():\n",
        "            current_char = char.upper()\n",
        "        else:\n",
        "            current_char = char\n",
        "\n",
        "        updated_char = updated_char[:] + current_char\n",
        "\n",
        "\n",
        "    return updated_char\n",
        "\n",
        "if __name__ == '__main__':"
      ],
      "metadata": {
        "id": "4O16zA3YTzxf"
      },
      "execution_count": null,
      "outputs": []
    },
    {
      "cell_type": "markdown",
      "source": [
        "#### String Split and Join"
      ],
      "metadata": {
        "id": "iDIuUTEHT34Z"
      }
    },
    {
      "cell_type": "code",
      "source": [
        "def split_and_join(line):\n",
        "    # write your code here\n",
        "    result = \"-\".join(line.split(\" \"))\n",
        "    return result\n",
        "\n",
        "if __name__ == '__main__':\n",
        "    line = input()\n",
        "    result = split_and_join(line)\n",
        "    print(result)"
      ],
      "metadata": {
        "id": "ESBEsgsTT_eA"
      },
      "execution_count": null,
      "outputs": []
    },
    {
      "cell_type": "markdown",
      "source": [
        "#### What's Your Name ?"
      ],
      "metadata": {
        "id": "nMFgizQ9UAyi"
      }
    },
    {
      "cell_type": "code",
      "source": [
        "#\n",
        "# Complete the 'print_full_name' function below.\n",
        "#\n",
        "# The function is expected to return a STRING.\n",
        "# The function accepts following parameters:\n",
        "#  1. STRING first\n",
        "#  2. STRING last\n",
        "#\n",
        "\n",
        "def print_full_name(first, last):\n",
        "    # Write your code here\n",
        "    result = \"Hello \" + first + \" \" + last + \"! You just delved into python.\"\n",
        "    print(result)\n",
        "    return result\n",
        "\n",
        "if __name__ == '__main__':"
      ],
      "metadata": {
        "id": "E5zO3q6YUJGv"
      },
      "execution_count": null,
      "outputs": []
    },
    {
      "cell_type": "markdown",
      "source": [
        "#### Mutations"
      ],
      "metadata": {
        "id": "UCZW3xdwUKKV"
      }
    },
    {
      "cell_type": "code",
      "source": [
        "def mutate_string(string, position, character):\n",
        "  string_list = string[:position]  + character + string[position+1:]\n",
        "  return string_list\n",
        "\n",
        "if __name__ == '__main__':\n",
        "    s = input()\n",
        "    i, c = input().split()\n",
        "    s_new = mutate_string(s, int(i), c)\n",
        "    print(s_new)"
      ],
      "metadata": {
        "colab": {
          "base_uri": "https://localhost:8080/"
        },
        "id": "VPa17AEWURMG",
        "outputId": "27850b62-674c-4a41-b4cb-6cf8d6e42fa6"
      },
      "execution_count": 10,
      "outputs": [
        {
          "output_type": "stream",
          "name": "stdout",
          "text": [
            "abracadabra\n",
            "5 k\n",
            "abrackdabra\n"
          ]
        }
      ]
    },
    {
      "cell_type": "markdown",
      "source": [
        "#### Find a String"
      ],
      "metadata": {
        "id": "yvHkJ2eOUs1w"
      }
    },
    {
      "cell_type": "code",
      "source": [
        "def count_substring(string, sub_string):\n",
        "    count = 0\n",
        "\n",
        "    if (len(string) < 201 and len(string) > 0):\n",
        "        for i in range(0,len(string)):\n",
        "            if i + len(sub_string) < len(string) or i +len(sub_string) == len(string):\n",
        "                if string[i:  i + len(sub_string)] == sub_string[:] :\n",
        "                    count += 1\n",
        "\n",
        "\n",
        "    return count\n",
        "\n",
        "if __name__ == '__main__':\n",
        "    string = input().strip()\n",
        "    sub_string = input().strip()\n",
        "\n",
        "    count = count_substring(string, sub_string)\n",
        "    print(count)"
      ],
      "metadata": {
        "id": "geD0o-exU3DA"
      },
      "execution_count": null,
      "outputs": []
    },
    {
      "cell_type": "markdown",
      "source": [
        "#### String Validators"
      ],
      "metadata": {
        "id": "uyp5w0zVVQFn"
      }
    },
    {
      "cell_type": "code",
      "source": [
        "def string_checker(s):\n",
        "\n",
        "    result_alnum = False\n",
        "    result_alpha = False\n",
        "    result_digit = False\n",
        "    result_lower = False\n",
        "    result_upper = False\n",
        "    for i in range(len(s)):\n",
        "        if s[i].isalnum():\n",
        "            result_alnum = True\n",
        "        if s[i].isalpha():\n",
        "            result_alpha = True\n",
        "        if s[i].isdigit():\n",
        "            result_digit = True\n",
        "        if s[i].islower():\n",
        "            result_lower = True\n",
        "        if s[i].isupper():\n",
        "            result_upper = True\n",
        "\n",
        "\n",
        "    print(result_alnum)\n",
        "    print(result_alpha)\n",
        "    print(result_digit)\n",
        "    print(result_lower)\n",
        "    print(result_upper)\n",
        "\n",
        "\n",
        "\n",
        "if __name__ == '__main__':\n",
        "    s = input()\n",
        "\n",
        "    if len(s) > 0 and len(s) < 1000:\n",
        "        string_checker(s)\n",
        "\n"
      ],
      "metadata": {
        "id": "V9lgoiedVLzV"
      },
      "execution_count": null,
      "outputs": []
    },
    {
      "cell_type": "markdown",
      "source": [
        "#### Text Alignment"
      ],
      "metadata": {
        "id": "xP77ehtDVWuD"
      }
    },
    {
      "cell_type": "code",
      "source": [
        "#Replace all ______ with rjust, ljust or center.\n",
        "\n",
        "thickness = int(input()) #This must be an odd number\n",
        "c = 'H'\n",
        "\n",
        "#Top Cone\n",
        "for i in range(thickness):\n",
        "    print((c*i).rjust(thickness-1)+c+(c*i).ljust(thickness-1))\n",
        "\n",
        "# #Top Pillars\n",
        "for i in range(thickness+1):\n",
        "    print((c*thickness).center(thickness*2)+(c*thickness).center(thickness*6))\n",
        "\n",
        "# #Middle Belt\n",
        "for i in range((thickness+1)//2):\n",
        "    print((c*thickness*5).center(thickness*6))\n",
        "\n",
        "# #Bottom Pillars\n",
        "for i in range(thickness+1):\n",
        "    print((c*thickness).center(thickness*2)+(c*thickness).center(thickness*6))\n",
        "\n",
        "# #Bottom Cone\n",
        "for i in range(thickness):\n",
        "    print(((c*(thickness-i-1)).rjust(thickness)+c+(c*(thickness-i-1)).ljust(thickness)).rjust(thickness*6))\n"
      ],
      "metadata": {
        "id": "J41XoKSoVfys"
      },
      "execution_count": null,
      "outputs": []
    },
    {
      "cell_type": "markdown",
      "source": [
        "#### Text Wrap"
      ],
      "metadata": {
        "id": "6gIcVj1mVgkV"
      }
    },
    {
      "cell_type": "code",
      "source": [
        "import textwrap\n",
        "\n",
        "def wrap(string, max_width):\n",
        "\n",
        "    splited_text = textwrap.wrap(string,max_width)\n",
        "\n",
        "    return \"\\n\".join(splited_text)\n",
        "\n",
        "\n",
        "if __name__ == '__main__':\n",
        "    string, max_width = input(), int(input())\n",
        "    result = wrap(string, max_width)\n",
        "    print(result)"
      ],
      "metadata": {
        "id": "vTODpuJMVm3g"
      },
      "execution_count": null,
      "outputs": []
    },
    {
      "cell_type": "markdown",
      "source": [
        "#### Designer Door Mat"
      ],
      "metadata": {
        "id": "ia9hN08fVsmJ"
      }
    },
    {
      "cell_type": "code",
      "source": [
        "# Enter your code here. Read input from STDIN. Print output to STDOUT\n",
        "\n",
        "# Total number of rows is odd; subtracting 1 makes it even for the top and bottom symmetry.\n",
        "# Top half: Iterate over every second row, starting with 1 door and increasing by 2.\n",
        "# Number of .|. patterns increases by 2 in each row.\n",
        "# Total columns (width).\n",
        "# Calculate the number of dashes to center the doors.\n",
        "# Build and print the row with centered doors and dashes.\n",
        "\n",
        "\n",
        "def build_doors(nums_list):\n",
        "    top_row = nums_list[0] - 1\n",
        "    sym_door = '.|.'\n",
        "    dash = '-'\n",
        "\n",
        "    # Top half of the door pattern\n",
        "    for i in range(top_row, 0, -2):\n",
        "\n",
        "        total_doors = nums_list[0] - i\n",
        "\n",
        "        door_position = nums_list[1]\n",
        "\n",
        "        len_sym_door = len(sym_door)\n",
        "\n",
        "        num_dashes = (door_position - (len_sym_door * total_doors)) // 2\n",
        "\n",
        "        row = dash * num_dashes + sym_door * total_doors + dash * num_dashes\n",
        "\n",
        "        print(row)\n",
        "\n",
        "\n",
        "    # Middle row with \"WELCOME\" centered\n",
        "    middle_row = 'WELCOME'.center(nums_list[1], '-')\n",
        "    print(middle_row)\n",
        "\n",
        "    # Same as the top half, but in reverse for loop\n",
        "    # it starts with substracting 2 from the total number of rows\n",
        "    # starting from the above calculated greater door number\n",
        "    # it starts to decrease by two to get the total number of doors\n",
        "    # Calculate the number of dashes to center the doors.\n",
        "    # Build and print the row with centered doors and dashes.\n",
        "\n",
        "    # Bottom half (reverse of top half)\n",
        "    for i in range(2, top_row + 1, 2):\n",
        "        total_doors = nums_list[0] - i\n",
        "        num_dashes = (door_position - len(sym_door) * total_doors) // 2\n",
        "        row = dash * num_dashes + sym_door * total_doors + dash * num_dashes\n",
        "        print(row)\n",
        "\n",
        "nums_list = list(map(int, input().split()))\n",
        "build_doors(nums_list)\n"
      ],
      "metadata": {
        "id": "qOuXuMgyV1oC"
      },
      "execution_count": null,
      "outputs": []
    },
    {
      "cell_type": "markdown",
      "source": [
        "#### String Formatting"
      ],
      "metadata": {
        "id": "3sGLeWF7V2fr"
      }
    },
    {
      "cell_type": "code",
      "source": [
        "def print_formatted(number):\n",
        "    # Iterate over the numbers from 1 to the specified number\n",
        "    for i in range(1, number + 1):\n",
        "\n",
        "        # Initialize conversion results\n",
        "        hex_conv = ''\n",
        "        binary_conv = ''\n",
        "        octal_conv = ''\n",
        "\n",
        "        # Convert to octal\n",
        "        current_num = i\n",
        "        remainder_list = []\n",
        "        while current_num > 0:\n",
        "            remainder_list.append(current_num % 8)\n",
        "            current_num //= 8\n",
        "        octal_conv = ''.join(map(str, remainder_list[::-1])) or '0'\n",
        "\n",
        "        # Convert to hexadecimal using if statements\n",
        "        current_num = i\n",
        "        remainder_list = []\n",
        "        while current_num > 0:\n",
        "            remainder_list.append(current_num % 16)\n",
        "            current_num //= 16\n",
        "\n",
        "        # custom if statements for hexadecimal conversion\n",
        "        for j in range(len(remainder_list)):\n",
        "            if remainder_list[j] == 10:\n",
        "                remainder_list[j] = 'A'\n",
        "            elif remainder_list[j] == 11:\n",
        "                remainder_list[j] = 'B'\n",
        "            elif remainder_list[j] == 12:\n",
        "                remainder_list[j] = 'C'\n",
        "            elif remainder_list[j] == 13:\n",
        "                remainder_list[j] = 'D'\n",
        "            elif remainder_list[j] == 14:\n",
        "                remainder_list[j] = 'E'\n",
        "            elif remainder_list[j] == 15:\n",
        "                remainder_list[j] = 'F'\n",
        "\n",
        "        hex_conv = ''.join(map(str, remainder_list[::-1])) or '0'\n",
        "\n",
        "        # Convert to binary\n",
        "        current_num = i\n",
        "        remainder_list = []\n",
        "        while current_num > 0:\n",
        "            remainder_list.append(current_num % 2)\n",
        "            current_num //= 2\n",
        "        binary_conv = ''.join(map(str, remainder_list[::-1])) or '0'\n",
        "\n",
        "\n",
        "        # Print all conversions for the current number\n",
        "        # bin(number) outputs something like this: '0b101'\n",
        "        # so the binary conversion should only print the later one\n",
        "        # exculding '0b' so we subtract 2 to get the maximum length\n",
        "        # of the binary conversion to format the output appropriately\n",
        "        fixed_width = len(bin(number)) - 2\n",
        "        print(\n",
        "            str(i).rjust(fixed_width),\n",
        "            octal_conv.rjust(fixed_width),\n",
        "            hex_conv.rjust(fixed_width),\n",
        "            binary_conv.rjust(fixed_width)\n",
        "        )\n",
        "if __name__ == '__main__':\n",
        "    n = int(input())\n",
        "    print_formatted(n)"
      ],
      "metadata": {
        "id": "vLhcZ8D6V9vt"
      },
      "execution_count": null,
      "outputs": []
    },
    {
      "cell_type": "markdown",
      "source": [
        "#### Alphabet Rangoli"
      ],
      "metadata": {
        "id": "w9PkXi4oV-qN"
      }
    },
    {
      "cell_type": "code",
      "source": [
        "def print_rangoli(size):\n",
        "    # your code goes here\n",
        "    alphabets = 'abcdefghijklmnopqrstuvwxyz'\n",
        "\n",
        "\n",
        "    # for char in alphabets[:size]:\n",
        "\n",
        "    trunc_alpha = alphabets[:size]\n",
        "    reversed_trunc_alpha = trunc_alpha[::-1]\n",
        "    print(reversed_trunc_alpha)\n",
        "\n",
        "    cols = 2*(size -1 ) + 1\n",
        "    rows = 2*(size) - 1\n",
        "\n",
        "    for i in range(1,rows):\n",
        "        current_list = reversed_trunc_alpha[:i]\n",
        "        for j in range(len(reversed_trunc_alpha[:i])):\n",
        "            if j == 0 or j ==len(j == len(reversed_trunc_alpha[:i]) - 1):\n",
        "                pass\n",
        "            else:\n",
        "                reversed_trunc_alphainsert(j, '-')\n",
        "        for char in reversed_trunc_alpha[:i]:\n",
        "            len_alpha = len(reversed_trunc_alpha[:i])\n",
        "            print((cols-1)*'-', reversed_trunc_alpha[0], (cols-1)*'-')\n",
        "\n",
        "\n",
        "\n",
        "\n",
        "if __name__ == '__main__':\n",
        "    n = int(input())\n",
        "    print_rangoli(n)"
      ],
      "metadata": {
        "id": "-fDzlCLfWImc"
      },
      "execution_count": null,
      "outputs": []
    },
    {
      "cell_type": "markdown",
      "source": [
        "#### Capitalize!"
      ],
      "metadata": {
        "id": "MJFa1eD1WKXn"
      }
    },
    {
      "cell_type": "code",
      "source": [
        "#!/bin/python3\n",
        "\n",
        "import math\n",
        "import os\n",
        "import random\n",
        "import re\n",
        "import sys\n",
        "\n",
        "# Complete the solve function below.\n",
        "def solve(s):\n",
        "\n",
        "    split_name = s.split(' ')\n",
        "\n",
        "    updated_first_name = split_name[0]\n",
        "    updated_last_name = split_name[1]\n",
        "\n",
        "    if split_name[0][0].isalpha() and split_name[0][0].islower():\n",
        "        updated_first_name = split_name[0][0].upper() + split_name[0][1:]\n",
        "    if split_name[1][0].isalpha() and split_name[1][0].islower():\n",
        "        updated_last_name = split_name[1][0].upper() + split_name[1][1:]\n",
        "    else:\n",
        "        pass\n",
        "    return updated_first_name + ' ' + updated_last_name\n",
        "\n",
        "if __name__ == '__main__':\n",
        "    fptr = open(os.environ['OUTPUT_PATH'], 'w')\n",
        "\n",
        "    s = input()\n",
        "\n",
        "    result = solve(s)\n",
        "\n",
        "    fptr.write(result + '\\n')\n",
        "\n",
        "    fptr.close()\n"
      ],
      "metadata": {
        "id": "W0xHb1xmWUqM"
      },
      "execution_count": null,
      "outputs": []
    },
    {
      "cell_type": "markdown",
      "source": [
        "#### Merge the Tools"
      ],
      "metadata": {
        "id": "IFK26pvJlch1"
      }
    },
    {
      "cell_type": "code",
      "source": [
        "def merge_the_tools(string, k):\n",
        "    string_length = len(string)\n",
        "\n",
        "    for i in range(0, string_length, k):\n",
        "\n",
        "        current_substring = list(string[i:i+k])\n",
        "\n",
        "        unique_chars = []\n",
        "\n",
        "        for char in current_substring:\n",
        "            if char not in unique_chars:\n",
        "                unique_chars.append(char)\n",
        "\n",
        "        print(''.join(unique_chars))\n",
        "\n",
        "if __name__ == '__main__':\n",
        "    string, k = input(), int(input())\n",
        "    merge_the_tools(string, k)"
      ],
      "metadata": {
        "colab": {
          "base_uri": "https://localhost:8080/"
        },
        "id": "MEjTveTDLrwg",
        "outputId": "15259f8a-88a3-4bd3-87dd-7c590a29a8e7"
      },
      "execution_count": null,
      "outputs": [
        {
          "output_type": "stream",
          "name": "stdout",
          "text": [
            "AABCAAADA\n",
            "3\n",
            "AB\n",
            "CA\n",
            "AD\n"
          ]
        }
      ]
    },
    {
      "cell_type": "markdown",
      "source": [
        "#### Capitalize"
      ],
      "metadata": {
        "id": "D3AsUIbsn6Ea"
      }
    },
    {
      "cell_type": "code",
      "source": [
        "#!/bin/python3\n",
        "\n",
        "import math\n",
        "import os\n",
        "import random\n",
        "import re\n",
        "import sys\n",
        "\n",
        "# Complete the solve function below.\n",
        "def solve(s):\n",
        "\n",
        "    split_string = s.split(' ')\n",
        "\n",
        "\n",
        "    for s in split_string:\n",
        "        if s.isalpha() and s[0].islower():\n",
        "\n",
        "            inx = split_string.index(s)\n",
        "            if len(s) > 0:\n",
        "                split_string[inx] = s[0].upper() + s[1:]\n",
        "            else:\n",
        "                split_string[inx] = s[0].upper()\n",
        "\n",
        "\n",
        "\n",
        "\n",
        "\n",
        "    return ' '.join(split_string)\n",
        "\n",
        "if __name__ == '__main__':\n",
        "    fptr = open('output_file.txt', 'w')\n",
        "\n",
        "    s = input()\n",
        "\n",
        "    result = solve(s)\n",
        "\n",
        "    fptr.write(result + '\\n')\n",
        "\n",
        "    fptr.close()\n",
        "\n"
      ],
      "metadata": {
        "colab": {
          "base_uri": "https://localhost:8080/"
        },
        "id": "FzM1kGS0Ub1g",
        "outputId": "8edd5156-3dc8-4bfc-9576-6ac2a887094e"
      },
      "execution_count": null,
      "outputs": [
        {
          "name": "stdout",
          "output_type": "stream",
          "text": [
            "132 456 Wq  m e\n"
          ]
        }
      ]
    },
    {
      "cell_type": "markdown",
      "source": [
        "#### The Minion Game"
      ],
      "metadata": {
        "id": "aIVu1qT1pVpM"
      }
    },
    {
      "cell_type": "code",
      "execution_count": null,
      "metadata": {
        "id": "zi6sEhYVKRny"
      },
      "outputs": [],
      "source": [
        "def minion_game(string):\n",
        "\n",
        "    string = string.lower()\n",
        "    n = len(string)\n",
        "\n",
        "    kevin_score = 0\n",
        "    stuart_score = 0\n",
        "    vowels = 'aeiou'\n",
        "\n",
        "    # based on the chars position\n",
        "    # we will be able to generate\n",
        "    # n-1 substrings\n",
        "\n",
        "    for i in range(n):\n",
        "        total_substrings = n - i\n",
        "        # we check if the first char is starting with vowel\n",
        "        # which gets counted for kevin score\n",
        "\n",
        "        if vowels.find(string[i]) != -1:\n",
        "            kevin_score += total_substrings\n",
        "        else:\n",
        "            stuart_score += total_substrings\n",
        "\n",
        "\n",
        "    if kevin_score > stuart_score:\n",
        "        print('Kevin', kevin_score)\n",
        "    elif stuart_score > kevin_score:\n",
        "        print('Stuart', stuart_score)\n",
        "    else:\n",
        "        print('Draw')\n",
        "\n",
        "\n",
        "\n",
        "\n",
        "\n",
        "\n",
        "if __name__ == '__main__':\n",
        "    s = input()\n",
        "    minion_game(s)"
      ]
    },
    {
      "cell_type": "markdown",
      "source": [
        "# Sets\n"
      ],
      "metadata": {
        "id": "EbDuWRd-qv8j"
      }
    },
    {
      "cell_type": "markdown",
      "source": [
        "#### Introduction to Sets"
      ],
      "metadata": {
        "id": "FcPXx_eQqyUh"
      }
    },
    {
      "cell_type": "code",
      "source": [
        "def average(array):\n",
        "    unique_heights = set(array)\n",
        "    n = len(unique_heights)\n",
        "    sum_of_height = 0\n",
        "    for height in unique_heights:\n",
        "        sum_of_height += height\n",
        "\n",
        "    average = sum_of_height / n\n",
        "    return float(average)\n",
        "\n",
        "if __name__ == '__main__':\n",
        "    n = int(input())\n",
        "    arr = list(map(int, input().split()))\n",
        "    result = average(arr)\n",
        "    print(result)"
      ],
      "metadata": {
        "colab": {
          "base_uri": "https://localhost:8080/"
        },
        "id": "6wgIqjKUn9cW",
        "outputId": "7a44001a-6c99-4151-f941-38e639d0b975"
      },
      "execution_count": null,
      "outputs": [
        {
          "output_type": "stream",
          "name": "stdout",
          "text": [
            "10\n",
            "161 182 161 154 176 170 167 171 170 174\n",
            "169.375\n"
          ]
        }
      ]
    },
    {
      "cell_type": "markdown",
      "source": [
        "#### Symmetric difference"
      ],
      "metadata": {
        "id": "ADoenldD0nCw"
      }
    },
    {
      "cell_type": "code",
      "source": [
        "# Enter your code here. Read input from STDIN. Print output to STDOUT\n",
        "m = int(input())\n",
        "arr1 = list(map(int, input().split()))\n",
        "\n",
        "n = int(input())\n",
        "arr2 = list(map(int, input().split()))\n",
        "\n",
        "set1 = set(arr1)\n",
        "set2 = set(arr2)\n",
        "\n",
        "symmetric_difference = set1.union(set2) - set1.intersection(set2)\n",
        "for i in sorted(symmetric_difference):\n",
        "    print(i)"
      ],
      "metadata": {
        "colab": {
          "base_uri": "https://localhost:8080/"
        },
        "id": "OjqMO-hJq1ha",
        "outputId": "52dc3443-3809-4c62-b121-b24c8cdcedd3"
      },
      "execution_count": null,
      "outputs": [
        {
          "output_type": "stream",
          "name": "stdout",
          "text": [
            "4\n",
            "2 4 5 9\n",
            "4\n",
            "2 4 11 12\n",
            "5\n",
            "9\n",
            "11\n",
            "12\n"
          ]
        }
      ]
    },
    {
      "cell_type": "markdown",
      "source": [
        "#### No Idea!"
      ],
      "metadata": {
        "id": "cB3GpXwg0qY5"
      }
    },
    {
      "cell_type": "code",
      "source": [
        "# Enter your code here. Read input from STDIN. Print output to STDOUT\n",
        "n = list(map(int, input().split()))\n",
        "array = list(map(int, input().split()))\n",
        "\n",
        "A = set(map(int, input().split()))\n",
        "B = set(map(int, input().split()))\n",
        "\n",
        "\n",
        "happiness = 0\n",
        "for element in array:\n",
        "    if element in A:\n",
        "        happiness += 1\n",
        "    if element in B:\n",
        "        happiness -= 1\n",
        "\n",
        "print(happiness)\n",
        "\n"
      ],
      "metadata": {
        "id": "FjCON2iRvjMN"
      },
      "execution_count": null,
      "outputs": []
    },
    {
      "cell_type": "markdown",
      "source": [
        "#### Set.add()"
      ],
      "metadata": {
        "id": "K2KVBJ4c2_sm"
      }
    },
    {
      "cell_type": "code",
      "source": [
        "n = int(input())\n",
        "unique_country = set()\n",
        "\n",
        "\n",
        "for i in range(n):\n",
        "    country = input().strip()\n",
        "\n",
        "    unique_country.add(country)\n",
        "\n",
        "print(len(unique_country))\n",
        "\n"
      ],
      "metadata": {
        "colab": {
          "base_uri": "https://localhost:8080/"
        },
        "id": "kyxIktZq3CQr",
        "outputId": "89adb425-b77e-4f60-e58c-081caaff31c0"
      },
      "execution_count": null,
      "outputs": [
        {
          "output_type": "stream",
          "name": "stdout",
          "text": [
            "7\n",
            "uk\n",
            "china\n",
            "usa\n",
            "france\n",
            "new zealand\n",
            "uk\n",
            "france\n",
            "5\n"
          ]
        }
      ]
    },
    {
      "cell_type": "markdown",
      "source": [
        "#### Set.discard(). .remove() & .pop()"
      ],
      "metadata": {
        "id": "XbATP1YN-Joj"
      }
    },
    {
      "cell_type": "code",
      "source": [
        "n = int(input())\n",
        "s = set(map(int, input().split()))\n",
        "total_commands = int(input())\n",
        "\n",
        "\n",
        "\n",
        "for i in range(total_commands):\n",
        "    command = input().strip()\n",
        "\n",
        "    splited_command = command.split(' ')\n",
        "\n",
        "\n",
        "    if splited_command[0] == 'pop' and len(s) > 0:\n",
        "        s.pop()\n",
        "\n",
        "\n",
        "    elif splited_command[0] == 'remove':\n",
        "        num = int(splited_command[1])\n",
        "        if num in s:\n",
        "            s.remove(num)\n",
        "        else:\n",
        "            pass\n",
        "\n",
        "    elif splited_command[0] == 'discard':\n",
        "\n",
        "\n",
        "        s.discard(int(splited_command[1]))\n",
        "\n",
        "print(sum(s))"
      ],
      "metadata": {
        "colab": {
          "base_uri": "https://localhost:8080/"
        },
        "id": "1hg1Lhn43Dw7",
        "outputId": "87a324bb-9f24-407a-c7c4-e89ffe774a1c"
      },
      "execution_count": null,
      "outputs": [
        {
          "output_type": "stream",
          "name": "stdout",
          "text": [
            "10\n",
            "0 1 2 3 4 5 6 7 8 9\n",
            "19\n",
            "remove 1\n",
            "pop\n",
            "pop\n",
            "discard 1\n",
            "discard 2\n",
            "discard 3\n",
            "discard 2\n",
            "remove 6\n",
            "pop\n",
            "discard 6\n",
            "discard 1\n",
            "discard 8\n",
            "discard 2\n",
            "pop\n",
            "discard 1\n",
            "discard 8\n",
            "discard 3\n",
            "discard 1\n",
            "discard 0\n",
            "16\n"
          ]
        }
      ]
    },
    {
      "cell_type": "markdown",
      "source": [
        "#### Set.union() Operation"
      ],
      "metadata": {
        "id": "KFQVw9OZAZi8"
      }
    },
    {
      "cell_type": "code",
      "source": [
        "n = int(input())\n",
        "e = set(map(int, input().split()))\n",
        "b = int(input())\n",
        "f = set(map(int, input().split()))\n",
        "\n",
        "\n",
        "print(len(e.union(f)))"
      ],
      "metadata": {
        "id": "RwGwBS2H-Ooa"
      },
      "execution_count": null,
      "outputs": []
    },
    {
      "cell_type": "markdown",
      "source": [
        "#### Set .intersection() Operation"
      ],
      "metadata": {
        "id": "TrSJ8WtnB_y6"
      }
    },
    {
      "cell_type": "code",
      "source": [
        "n = int(input())\n",
        "e = set(map(int, input().split()))\n",
        "b = int(input())\n",
        "f = set(map(int, input().split()))\n",
        "\n",
        "print(len(e.intersection(f)))"
      ],
      "metadata": {
        "colab": {
          "base_uri": "https://localhost:8080/"
        },
        "id": "WSv69uuMCCgO",
        "outputId": "4e042903-323f-4d58-c4a0-c98d4a6e750a"
      },
      "execution_count": null,
      "outputs": [
        {
          "output_type": "stream",
          "name": "stdout",
          "text": [
            "9\n",
            "1 2 3 4 5 6 7 8 9\n",
            "9\n",
            "10 1 2 3 11 21 55 6 8\n",
            "5\n"
          ]
        }
      ]
    },
    {
      "cell_type": "markdown",
      "source": [
        "#### Set .difference() Operation"
      ],
      "metadata": {
        "id": "bb5B80PoCwPk"
      }
    },
    {
      "cell_type": "code",
      "source": [
        "n = int(input())\n",
        "e = set(map(int, input().split()))\n",
        "b = int(input())\n",
        "f = set(map(int, input().split()))\n",
        "\n",
        "print(len(e.difference(f)))"
      ],
      "metadata": {
        "id": "WhjJ58YyCC6c"
      },
      "execution_count": null,
      "outputs": []
    },
    {
      "cell_type": "markdown",
      "source": [
        "#### Set .symmetic_difference() Operation"
      ],
      "metadata": {
        "id": "8V9_SkHXC0x0"
      }
    },
    {
      "cell_type": "code",
      "source": [
        "n = int(input())\n",
        "e = set(map(int, input().split()))\n",
        "b = int(input())\n",
        "f = set(map(int, input().split()))\n",
        "\n",
        "print(len(e.symmetric_difference(f)))"
      ],
      "metadata": {
        "id": "fjHXj72VCz_i"
      },
      "execution_count": null,
      "outputs": []
    },
    {
      "cell_type": "markdown",
      "source": [
        "#### Set Mutations"
      ],
      "metadata": {
        "id": "2kphu-LXDevC"
      }
    },
    {
      "cell_type": "code",
      "source": [
        "# Enter your code here. Read input from STDIN. Print output to STDOUT\n",
        "n = int(input())\n",
        "A = set(map(int, input().split()))\n",
        "m = int(input())\n",
        "\n",
        "for i in range(m):\n",
        "    command = input().strip()\n",
        "    other_set = set(map(int, input().split()))\n",
        "\n",
        "\n",
        "    splited_command = command.split()[0]\n",
        "\n",
        "\n",
        "    if splited_command == 'intersection_update':\n",
        "        A.intersection_update(other_set)\n",
        "\n",
        "    if splited_command == 'update':\n",
        "        A.update(other_set)\n",
        "\n",
        "    if splited_command == 'symmetric_difference_update':\n",
        "        A.symmetric_difference_update(other_set)\n",
        "\n",
        "    if splited_command == 'difference_update':\n",
        "        A.difference_update(other_set)\n",
        "\n",
        "\n",
        "print(sum(A))\n"
      ],
      "metadata": {
        "id": "K6-e5oqdK3Ck"
      },
      "execution_count": null,
      "outputs": []
    },
    {
      "cell_type": "markdown",
      "source": [
        "#### The Captain's Room"
      ],
      "metadata": {
        "id": "3kMVitcZK4nB"
      }
    },
    {
      "cell_type": "code",
      "source": [
        "\n",
        "n = int(input())\n",
        "arr = list(map(int, input().split()))\n",
        "\n",
        "num_occurrence = {}\n",
        "\n",
        "for num in arr:\n",
        "    if num in num_occurrence:\n",
        "        num_occurrence[num] += 1\n",
        "    else:\n",
        "        num_occurrence[num] = 1\n",
        "\n",
        "for key, value in num_occurrence.items():\n",
        "    if value == 1:\n",
        "        print(key)\n"
      ],
      "metadata": {
        "id": "eiwMhop-OkRg"
      },
      "execution_count": null,
      "outputs": []
    },
    {
      "cell_type": "markdown",
      "source": [
        "#### Check Subset"
      ],
      "metadata": {
        "id": "E8PEDdiZOlNQ"
      }
    },
    {
      "cell_type": "code",
      "source": [
        "n = int(input())\n",
        "\n",
        "for i in range(n):\n",
        "    n_A = int(input())\n",
        "    A = set(map(int, input().split()))\n",
        "    n_B = int(input())\n",
        "    B = set(map(int, input().split()))\n",
        "\n",
        "    print(A.issubset(B))\n"
      ],
      "metadata": {
        "id": "mATOUD7zUy0n"
      },
      "execution_count": null,
      "outputs": []
    },
    {
      "cell_type": "markdown",
      "source": [
        "#### Check Strict Superset"
      ],
      "metadata": {
        "id": "VJv-X0YxUzyl"
      }
    },
    {
      "cell_type": "code",
      "source": [
        "A = set(map(int, input().split()))\n",
        "n = int(input())\n",
        "\n",
        "result = True\n",
        "\n",
        "for i in range(n):\n",
        "    B = set(map(int, input().split()))\n",
        "\n",
        "    result &= A.issuperset(B) and len(A) > len(B)\n",
        "\n",
        "\n",
        "print(result)"
      ],
      "metadata": {
        "colab": {
          "base_uri": "https://localhost:8080/"
        },
        "id": "kpOZR2ZQYYQ5",
        "outputId": "61e1f755-4a61-4a3e-e88f-752ce0273952"
      },
      "execution_count": 13,
      "outputs": [
        {
          "output_type": "stream",
          "name": "stdout",
          "text": [
            "1 2 3 4 5 6 7 8 9 10 11 12 23 45 84 78\n",
            "2\n",
            "1 2 3 4 5\n",
            "100 11 12\n",
            "False\n"
          ]
        }
      ]
    },
    {
      "cell_type": "markdown",
      "source": [
        "# Collections\n"
      ],
      "metadata": {
        "id": "e4cMFgiNYa4s"
      }
    },
    {
      "cell_type": "markdown",
      "source": [
        "#### collections.Counter()"
      ],
      "metadata": {
        "id": "pV8wXP8mvrr7"
      }
    },
    {
      "cell_type": "code",
      "source": [
        "# Enter your code here. Read input from STDIN. Print output to STDOUT\n",
        "from collections import Counter\n",
        "X = int(input())\n",
        "shoe_size = list(map(int, input().split()))\n",
        "N = int(input())\n",
        "\n",
        "customer_desire = []\n",
        "\n",
        "price = 0\n",
        "for i in range(N):\n",
        "    size, price = list(map(int, input().split()))\n",
        "    customer_desire.append((size, price))\n",
        "\n",
        "\n",
        "\n",
        "\n",
        "\n",
        "\n",
        "def calculate_price():\n",
        "\n",
        "    available_size = Counter(shoe_size)\n",
        "    total_price = 0\n",
        "\n",
        "    for size, price in customer_desire:\n",
        "\n",
        "        if size in available_size.keys() and available_size[size] != 0:\n",
        "            available_size[size] -= 1\n",
        "            total_price += price\n",
        "\n",
        "    print(total_price)\n",
        "\n",
        "\n",
        "\n",
        "calculate_price()"
      ],
      "metadata": {
        "id": "kXJzvXDlYYre"
      },
      "execution_count": null,
      "outputs": []
    },
    {
      "cell_type": "markdown",
      "source": [
        "#### DefaultDict Tutorial"
      ],
      "metadata": {
        "id": "Y7mlgmdovzaw"
      }
    },
    {
      "cell_type": "code",
      "source": [
        "from collections import defaultdict\n",
        "n, m = list(map(int, input().split()))\n",
        "\n",
        "A = []\n",
        "B = []\n",
        "for i in range(n):\n",
        "    char = input().strip()\n",
        "    A.append(char)\n",
        "\n",
        "for j in range(m):\n",
        "    char = input().strip()\n",
        "    B.append(char)\n",
        "\n",
        "\n",
        "\n",
        "occurence = defaultdict(list)\n",
        "\n",
        "\n",
        "for inx, char in enumerate(A):\n",
        "    occurence[char].append(inx + 1)\n",
        "\n",
        "\n",
        "\n",
        "for char in B:\n",
        "    if char in occurence:\n",
        "        print(' '.join(map(str, occurence[char])))\n",
        "\n",
        "    else:\n",
        "        print('-1')"
      ],
      "metadata": {
        "id": "u0aVgkiJys56"
      },
      "execution_count": null,
      "outputs": []
    },
    {
      "cell_type": "markdown",
      "source": [
        "#### COllections.namedtuple()"
      ],
      "metadata": {
        "id": "082AHYuk4rWg"
      }
    },
    {
      "cell_type": "code",
      "source": [
        "from collections import namedtuple\n",
        "\n",
        "n = int(input())\n",
        "fields = input().split()\n",
        "Row = namedtuple('Row', fields)\n",
        "\n",
        "total_marks = 0\n",
        "for i in range(n):\n",
        "\n",
        "    student = input().split()\n",
        "    fill_student_row = Row(*student)\n",
        "    total_marks += int(fill_student_row.MARKS)\n",
        "\n",
        "print(float(total_marks/n))\n"
      ],
      "metadata": {
        "id": "bwHO8A0B81_k"
      },
      "execution_count": null,
      "outputs": []
    },
    {
      "cell_type": "markdown",
      "source": [
        "#### Collections.OrderDict()"
      ],
      "metadata": {
        "id": "PKsQIEA683ai"
      }
    },
    {
      "cell_type": "code",
      "source": [
        "from collections import OrderedDict\n",
        "n  = int(input())\n",
        "\n",
        "items = {}\n",
        "\n",
        "for i in range(n):\n",
        "    item = list(map(str, input().split()))\n",
        "\n",
        "    name = ' '.join(item[0:len(item)-1])\n",
        "    price = int(item[-1])\n",
        "\n",
        "\n",
        "    if name in items.keys():\n",
        "        items[name] += price\n",
        "    else:\n",
        "        items[name] = price\n",
        "\n",
        "\n",
        "\n",
        "for name, price in items.items():\n",
        "    print(name, price)\n",
        "\n"
      ],
      "metadata": {
        "id": "fcwqTn5OCRhb"
      },
      "execution_count": null,
      "outputs": []
    },
    {
      "cell_type": "markdown",
      "source": [
        "#### Word Order"
      ],
      "metadata": {
        "id": "-RepA8pv_ENJ"
      }
    },
    {
      "cell_type": "code",
      "source": [
        "# Enter your code here. Read input from STDIN. Print output to STDOUT\n",
        "\n",
        "n = int(input())\n",
        "\n",
        "collection = {}\n",
        "\n",
        "for i in range(n):\n",
        "    word = input().strip()\n",
        "\n",
        "\n",
        "    if word in collection.keys():\n",
        "        collection[word] += 1\n",
        "    else:\n",
        "        collection[word] = 1\n",
        "\n",
        "print(len(collection))\n",
        "\n",
        "for word, occurrence in collection.items():\n",
        "    print(f'{occurrence}', end=' ')\n"
      ],
      "metadata": {
        "id": "c76DRS7w_GgF"
      },
      "execution_count": null,
      "outputs": []
    },
    {
      "cell_type": "markdown",
      "source": [
        "#### Collections.deque()"
      ],
      "metadata": {
        "id": "rgIXzYWSBZyH"
      }
    },
    {
      "cell_type": "code",
      "source": [
        "# Enter your code here. Read input from STDIN. Print output to STDOUT\n",
        "from collections import deque\n",
        "\n",
        "n = int(input())\n",
        "\n",
        "d = deque()\n",
        "\n",
        "for i in range(n):\n",
        "    command = list(map(str, input().split()))\n",
        "\n",
        "    splitted_command = command[0]\n",
        "\n",
        "    if splitted_command == 'append':\n",
        "        d.append(command[1])\n",
        "\n",
        "    if splitted_command == 'appendleft':\n",
        "        d.appendleft(command[1])\n",
        "\n",
        "    if splitted_command == 'pop':\n",
        "        d.pop()\n",
        "\n",
        "    if splitted_command == 'popleft':\n",
        "        d.popleft()\n",
        "\n",
        "\n",
        "print(' '.join(d))\n"
      ],
      "metadata": {
        "id": "SYn6P4NEDmhj"
      },
      "execution_count": null,
      "outputs": []
    },
    {
      "cell_type": "markdown",
      "source": [
        "#### Pilling Up!"
      ],
      "metadata": {
        "id": "W6bELKE0Dp8C"
      }
    },
    {
      "cell_type": "code",
      "source": [
        "# Enter your code here. Read input from STDIN. Print output to STDOUT\n",
        "\n",
        "T = int(input())\n",
        "\n",
        "for i in range(T):\n",
        "    n = int(input())\n",
        "    length = list(map(int, input().split()))\n",
        "\n",
        "    left = 0\n",
        "    right = n - 1\n",
        "    # Up to this max of cube length can be picked\n",
        "    max_side_length = 2 ** 31\n",
        "\n",
        "    while left <= right:\n",
        "        if length[left] >= length[right]:\n",
        "            if length[left] <= max_side_length:\n",
        "                max_side_length = length[left]\n",
        "                left += 1\n",
        "            else:\n",
        "                print(\"No\")\n",
        "                break\n",
        "        else:\n",
        "            if length[right] <= max_side_length:\n",
        "                max_side_length = length[right]\n",
        "                right -= 1\n",
        "            else:\n",
        "                print(\"No\")\n",
        "                break\n",
        "    else:\n",
        "        print(\"Yes\")"
      ],
      "metadata": {
        "colab": {
          "base_uri": "https://localhost:8080/"
        },
        "id": "KPXjHNIMHK4y",
        "outputId": "f6bd3ec5-1d82-4861-c887-e010c0946779"
      },
      "execution_count": null,
      "outputs": [
        {
          "output_type": "stream",
          "name": "stdout",
          "text": [
            "2\n",
            "6\n",
            "4 3 2 1 3 4\n",
            "Yes\n",
            "3\n",
            "1 3 2\n",
            "No\n"
          ]
        }
      ]
    },
    {
      "cell_type": "markdown",
      "source": [
        "#### Company Logo"
      ],
      "metadata": {
        "id": "krKowvqkN9MH"
      }
    },
    {
      "cell_type": "code",
      "source": [
        "import math\n",
        "import os\n",
        "import random\n",
        "import re\n",
        "import sys\n",
        "\n",
        "from collections import Counter\n",
        "\n",
        "def occur(s):\n",
        "\n",
        "    input_string = Counter(s)\n",
        "\n",
        "    sorted_string = sorted(input_string.items(), key = lambda x: [-x[1], x[0]])\n",
        "\n",
        "    for key, occ in sorted_string[:3]:\n",
        "        print(key, occ)\n",
        "\n",
        "\n",
        "if __name__ == '__main__':\n",
        "    s = input()\n",
        "\n",
        "    occur(s)\n"
      ],
      "metadata": {
        "id": "_BdYTkXWHLPw"
      },
      "execution_count": null,
      "outputs": []
    },
    {
      "cell_type": "markdown",
      "source": [
        "#### Time Delta"
      ],
      "metadata": {
        "id": "h6NpZez9aC-a"
      }
    },
    {
      "cell_type": "code",
      "source": [
        "#!/bin/python3\n",
        "\n",
        "import math\n",
        "import os\n",
        "import random\n",
        "import re\n",
        "import sys\n",
        "from datetime import datetime\n",
        "# Complete the time_delta function below.\n",
        "def time_delta(t1, t2):\n",
        "\n",
        "\n",
        "    fmt = '%a %d %b %Y %H:%M:%S %z'\n",
        "    dt_t1 = datetime.strptime(t1, fmt)\n",
        "    dt_t2 = datetime.strptime(t2, fmt)\n",
        "\n",
        "\n",
        "    return str(int(abs(dt_t1 - dt_t2).total_seconds()))\n",
        "\n",
        "if __name__ == '__main__':\n",
        "    fptr = open('output_file.txt', 'w')\n",
        "\n",
        "    t = int(input())\n",
        "\n",
        "    for t_itr in range(t):\n",
        "        t1 = input()\n",
        "\n",
        "        t2 = input()\n",
        "\n",
        "        delta = time_delta(t1, t2)\n",
        "\n",
        "        fptr.write(delta + '\\n')\n",
        "\n",
        "    fptr.close()\n"
      ],
      "metadata": {
        "colab": {
          "base_uri": "https://localhost:8080/"
        },
        "id": "LB2vEMSJaERh",
        "outputId": "c16de096-4bab-48cc-d133-54cf1632b3a2"
      },
      "execution_count": null,
      "outputs": [
        {
          "output_type": "stream",
          "name": "stdout",
          "text": [
            "2\n",
            "Sun 10 May 2015 13:54:36 -0700\n",
            "Sun 10 May 2015 13:54:36 -0000\n",
            "25200\n",
            "Sat 02 May 2015 19:54:36 +0530\n",
            "Fri 01 May 2015 13:54:36 -0000\n",
            "88200\n"
          ]
        }
      ]
    },
    {
      "cell_type": "markdown",
      "source": [
        "#### Calendar Module"
      ],
      "metadata": {
        "id": "FRUItKJ_ACE9"
      }
    },
    {
      "cell_type": "code",
      "source": [
        "import calendar\n",
        "\n",
        "month, day, year = list(map(int, input().split()))\n",
        "\n",
        "weekday_number = calendar.weekday(year, month, day)\n",
        "\n",
        "day_name = calendar.day_name[weekday_number]\n",
        "\n",
        "\n",
        "\n",
        "print((day_name).upper())"
      ],
      "metadata": {
        "id": "m2hQs76NAGTO"
      },
      "execution_count": null,
      "outputs": []
    },
    {
      "cell_type": "markdown",
      "source": [
        "# Numpy"
      ],
      "metadata": {
        "id": "FEkcd_bteSrq"
      }
    },
    {
      "cell_type": "markdown",
      "source": [
        "#### Mean, Var, and Std"
      ],
      "metadata": {
        "id": "A4Jo4gfJeUYa"
      }
    },
    {
      "cell_type": "code",
      "source": [
        "import numpy\n",
        "\n",
        "N, M = map(int, input().split())\n",
        "\n",
        "array = []\n",
        "for _ in range(N):\n",
        "    input_array = list(map(int, input().split()))\n",
        "    array.append(input_array)\n",
        "\n",
        "numpy_array = numpy.array(array)\n",
        "\n",
        "mean = numpy.mean(numpy_array, axis = 1)\n",
        "var = numpy.var(numpy_array, axis = 0)\n",
        "std = round(numpy.std(numpy_array), 11)\n",
        "\n",
        "\n",
        "\n",
        "print(mean)\n",
        "print(var)\n",
        "print(std)"
      ],
      "metadata": {
        "id": "4SF5ytCJaErb"
      },
      "execution_count": null,
      "outputs": []
    },
    {
      "cell_type": "markdown",
      "source": [
        "#### Dot and Cross"
      ],
      "metadata": {
        "id": "bG03ev0rg7Pt"
      }
    },
    {
      "cell_type": "code",
      "source": [
        "import numpy\n",
        "\n",
        "N = int(input())\n",
        "\n",
        "A = []\n",
        "B = []\n",
        "for _ in range(N*2):\n",
        "    array = list(map(int, input().split()))\n",
        "    if len(A) != N:\n",
        "        A.append(array)\n",
        "    else:\n",
        "        B.append(array)\n",
        "\n",
        "\n",
        "dot_product = numpy.dot(A, B)\n",
        "print(dot_product)\n"
      ],
      "metadata": {
        "id": "EK689zrAeXpF"
      },
      "execution_count": null,
      "outputs": []
    },
    {
      "cell_type": "markdown",
      "source": [
        "#### Inner and Outer"
      ],
      "metadata": {
        "id": "PlBKiS7Lg_YO"
      }
    },
    {
      "cell_type": "code",
      "source": [
        "import numpy\n",
        "\n",
        "A = list(map(int, input().split()))\n",
        "B = list(map(int, input().split()))\n",
        "\n",
        "print(numpy.inner(A, B))\n",
        "print(numpy.outer(A, B))\n",
        "\n"
      ],
      "metadata": {
        "id": "QeyBC-PShW2Z"
      },
      "execution_count": null,
      "outputs": []
    },
    {
      "cell_type": "markdown",
      "source": [
        "#### Polynomials"
      ],
      "metadata": {
        "id": "IPf229yjhXzg"
      }
    },
    {
      "cell_type": "code",
      "source": [
        "import numpy\n",
        "\n",
        "P = list(map(float, input().split()))\n",
        "x = int(input())\n",
        "\n",
        "print(numpy.polyval(P, x))"
      ],
      "metadata": {
        "id": "mQWwcpHYiIy0"
      },
      "execution_count": null,
      "outputs": []
    },
    {
      "cell_type": "markdown",
      "source": [
        "#### Linear Algebra"
      ],
      "metadata": {
        "id": "DYQHkwp6iJow"
      }
    },
    {
      "cell_type": "code",
      "source": [
        "import numpy\n",
        "\n",
        "N = int(input())\n",
        "\n",
        "array = []\n",
        "\n",
        "for _ in range(N):\n",
        "    A = list(map(float, input().split()))\n",
        "\n",
        "    array.append(A)\n",
        "\n",
        "print(round(numpy.linalg.det(array), 2))\n"
      ],
      "metadata": {
        "id": "BIBBXxTFioAT"
      },
      "execution_count": null,
      "outputs": []
    },
    {
      "cell_type": "markdown",
      "source": [
        "#### Arrays"
      ],
      "metadata": {
        "id": "nzA3K1L4ipJD"
      }
    },
    {
      "cell_type": "code",
      "source": [
        "import numpy\n",
        "\n",
        "def arrays(arr):\n",
        "    # complete this function\n",
        "\n",
        "    updated_arr = numpy.array(arr, float)\n",
        "    updated_arr = updated_arr[::-1]\n",
        "\n",
        "    return updated_arr\n",
        "\n",
        "arr = input().strip().split(' ')\n",
        "result = arrays(arr)\n",
        "print(result)"
      ],
      "metadata": {
        "id": "m3W3Z-ZQn9Hu"
      },
      "execution_count": null,
      "outputs": []
    },
    {
      "cell_type": "markdown",
      "source": [
        "#### Shape and Reshape"
      ],
      "metadata": {
        "id": "pkl00gXNn-Mx"
      }
    },
    {
      "cell_type": "code",
      "source": [
        "import numpy\n",
        "\n",
        "\n",
        "array = list(map(int, input().split()))\n",
        "\n",
        "\n",
        "print(numpy.reshape(array, (3,3)))"
      ],
      "metadata": {
        "id": "4FI7lHy_oeEm"
      },
      "execution_count": null,
      "outputs": []
    },
    {
      "cell_type": "markdown",
      "source": [
        "#### Transpose and Flatten"
      ],
      "metadata": {
        "id": "mPPSeeLKofHj"
      }
    },
    {
      "cell_type": "code",
      "source": [
        "import numpy\n",
        "\n",
        "N, M = map(int, input().split())\n",
        "\n",
        "array = []\n",
        "for _ in range(N):\n",
        "    input_array = list(map(int, input().split()))\n",
        "    array.append(input_array)\n",
        "\n",
        "\n",
        "\n",
        "numpy_array = numpy.array(array)\n",
        "print(numpy.transpose(numpy_array))\n",
        "print(numpy_array.flatten())"
      ],
      "metadata": {
        "id": "Qm2zwX6MqIeV"
      },
      "execution_count": null,
      "outputs": []
    },
    {
      "cell_type": "markdown",
      "source": [
        "#### Concatenate"
      ],
      "metadata": {
        "id": "MEycD2fQqJW8"
      }
    },
    {
      "cell_type": "code",
      "source": [
        "import numpy\n",
        "\n",
        "N,M,P = map(int, input().split())\n",
        "\n",
        "\n",
        "array1_list = []\n",
        "array2_list = []\n",
        "\n",
        "\n",
        "for _ in range(N):\n",
        "    array1 = list(map(int, input().split()))\n",
        "    array1_list.append(array1)\n",
        "\n",
        "\n",
        "for _ in range(M):\n",
        "    array2 = list(map(int, input().split()))\n",
        "    array2_list.append(array2)\n",
        "\n",
        "\n",
        "\n",
        "np_array1 = numpy.array(array1_list)\n",
        "np_array2 = numpy.array(array2_list)\n",
        "\n",
        "concatenated_array = numpy.concatenate((np_array1, np_array2), axis = 0)\n",
        "\n",
        "print(concatenated_array)\n",
        "\n"
      ],
      "metadata": {
        "id": "XDvsLf57uyrq"
      },
      "execution_count": null,
      "outputs": []
    },
    {
      "cell_type": "markdown",
      "source": [
        "#### Zeros and Ones"
      ],
      "metadata": {
        "id": "2n6gFN7puz5E"
      }
    },
    {
      "cell_type": "code",
      "source": [
        "import numpy\n",
        "\n",
        "\n",
        "array = tuple(map(int, input().split()))\n",
        "\n",
        "print(numpy.array(numpy.zeros(array), int))\n",
        "print(numpy.array(numpy.ones(array), int))\n"
      ],
      "metadata": {
        "id": "f1zKGP3Uvhs_"
      },
      "execution_count": null,
      "outputs": []
    },
    {
      "cell_type": "markdown",
      "source": [
        "#### Eye and Identity"
      ],
      "metadata": {
        "id": "4rigTqabvkGj"
      }
    },
    {
      "cell_type": "code",
      "source": [
        "import numpy\n",
        "\n",
        "numpy.set_printoptions(legacy='1.13')\n",
        "\n",
        "N, M = map(int, input().split())\n",
        "\n",
        "\n",
        "print(numpy.eye(N, M, k = 0))"
      ],
      "metadata": {
        "id": "NdR3Cirawvbm"
      },
      "execution_count": null,
      "outputs": []
    },
    {
      "cell_type": "markdown",
      "source": [
        "#### Array Mathematics"
      ],
      "metadata": {
        "id": "t4WHee7MwwWi"
      }
    },
    {
      "cell_type": "code",
      "source": [
        "import numpy\n",
        "\n",
        "N, M = map(int, input().split())\n",
        "\n",
        "array1 = []\n",
        "array2 = []\n",
        "\n",
        "for _ in range(N):\n",
        "    row = list(map(int, input().split()))\n",
        "    array1.append(row)\n",
        "\n",
        "\n",
        "for _ in range(N):\n",
        "    row = list(map(int, input().split()))\n",
        "    array2.append(row)\n",
        "\n",
        "\n",
        "\n",
        "np_array1 = numpy.array(array1)\n",
        "np_array2 = numpy.array(array2)\n",
        "\n",
        "print(numpy.array(np_array1 + np_array2))\n",
        "\n",
        "print(numpy.array(np_array1 - np_array2))\n",
        "\n",
        "print(numpy.array(np_array1 * np_array2))\n",
        "\n",
        "print(numpy.array(np_array1 // np_array2))\n",
        "\n",
        "print(numpy.array(np_array1 % np_array2))\n",
        "\n",
        "print(numpy.array(np_array1 ** np_array2))"
      ],
      "metadata": {
        "id": "M1KxhxLp5nji"
      },
      "execution_count": null,
      "outputs": []
    },
    {
      "cell_type": "markdown",
      "source": [
        "#### Floor, Ceil and Rint"
      ],
      "metadata": {
        "id": "eZDxUEPp5ooh"
      }
    },
    {
      "cell_type": "code",
      "source": [
        "import numpy\n",
        "\n",
        "numpy.set_printoptions(legacy = '1.13')\n",
        "\n",
        "array = list(map(float, input().split()))\n",
        "\n",
        "\n",
        "np_array = numpy.array(array)\n",
        "\n",
        "print(numpy.floor(np_array))\n",
        "\n",
        "print(numpy.ceil(np_array))\n",
        "\n",
        "print(numpy.rint(np_array))\n"
      ],
      "metadata": {
        "id": "O-TT0Ykg6m0_"
      },
      "execution_count": null,
      "outputs": []
    },
    {
      "cell_type": "markdown",
      "source": [
        "#### Sum and Prod"
      ],
      "metadata": {
        "id": "hQEeUPgq6nyN"
      }
    },
    {
      "cell_type": "code",
      "source": [
        "import numpy\n",
        "\n",
        "N, M = list(map(int, input().split()))\n",
        "\n",
        "array1 = []\n",
        "for _ in range(N):\n",
        "    array = list(map(int, input().split()))\n",
        "    array1.append(array)\n",
        "\n",
        "np_array = numpy.array(array1)\n",
        "np_sum = numpy.sum(np_array, axis = 0)\n",
        "np_prod = numpy.prod(np_sum)\n",
        "\n",
        "print(np_prod)"
      ],
      "metadata": {
        "id": "7SXFYYXx7upK"
      },
      "execution_count": null,
      "outputs": []
    },
    {
      "cell_type": "markdown",
      "source": [
        "#### Min and Max"
      ],
      "metadata": {
        "id": "TYDF1Ub67vkt"
      }
    },
    {
      "cell_type": "code",
      "source": [
        "import numpy\n",
        "\n",
        "\n",
        "N, M = list(map(int, input().split()))\n",
        "\n",
        "array1 = []\n",
        "for _ in range(N):\n",
        "    array = list(map(int,input().split()))\n",
        "    array1.append(array)\n",
        "\n",
        "\n",
        "np_array = numpy.array(array1)\n",
        "\n",
        "np_min = numpy.min(np_array, axis=1)\n",
        "\n",
        "print(numpy.max(np_min))\n"
      ],
      "metadata": {
        "id": "3XTPvFxN8r24"
      },
      "execution_count": null,
      "outputs": []
    },
    {
      "cell_type": "markdown",
      "source": [
        "# Regex and Parsing"
      ],
      "metadata": {
        "id": "KrcTQQXtE0NM"
      }
    },
    {
      "cell_type": "markdown",
      "source": [
        "#### Detect Floating Point Number"
      ],
      "metadata": {
        "id": "Xg_CIa6_E3PV"
      }
    },
    {
      "cell_type": "code",
      "source": [
        "import re\n",
        "T = int(input())\n",
        "\n",
        "\n",
        "for _ in range(T):\n",
        "    string = input()\n",
        "\n",
        "    float_regex = r'^[+-]?(\\d*\\.\\d+|\\.\\d+)$'\n",
        "\n",
        "    if re.match(float_regex, string):\n",
        "        float(string)\n",
        "        print(True)\n",
        "    else:\n",
        "        print(False)"
      ],
      "metadata": {
        "id": "TEzO2kGxE2GX"
      },
      "execution_count": null,
      "outputs": []
    },
    {
      "cell_type": "markdown",
      "source": [
        "#### Re.split()"
      ],
      "metadata": {
        "id": "Tn9MiAMfE67h"
      }
    },
    {
      "cell_type": "code",
      "source": [
        "regex_pattern = r\"[,.]\"\t# Do not delete 'r'.\n",
        "\n",
        "import re\n",
        "print(\"\\n\".join(re.split(regex_pattern, input())))"
      ],
      "metadata": {
        "id": "kUsaynsaH4WD"
      },
      "execution_count": null,
      "outputs": []
    },
    {
      "cell_type": "markdown",
      "source": [
        "#### Group(), Groups() & Groupdict()"
      ],
      "metadata": {
        "id": "W70U_QULH55C"
      }
    },
    {
      "cell_type": "code",
      "source": [
        "import re\n",
        "\n",
        "input_string = input()\n",
        "\n",
        "regex = r'([A-Za-z0-9])\\1'\n",
        "\n",
        "match = re.search(regex, input_string)\n",
        "\n",
        "if match:\n",
        "    print(match.group(1))\n",
        "else:\n",
        "    print(-1)\n",
        "\n"
      ],
      "metadata": {
        "id": "LvKnWYDzLPeA"
      },
      "execution_count": null,
      "outputs": []
    },
    {
      "cell_type": "markdown",
      "source": [
        "#### Re.findall() & Re.finditer()"
      ],
      "metadata": {
        "id": "KU51nns5LQVm"
      }
    },
    {
      "cell_type": "code",
      "source": [
        "\n",
        "import re\n",
        "input_string = input()\n",
        "\n",
        "regex_pattern = r'(?<=[QWRTYPSDFGHJKLZXCVBNMqwrtypsdfghjklzxcvbnm])([AEIOUaeiou]+)(?=[QWRTYPSDFGHJKLZXCVBNMqwrtypsdfghjklzxcvbnm])'\n",
        "matches =re.findall(regex_pattern, input_string)\n",
        "\n",
        "\n",
        "size_of_match = len(matches)\n",
        "count = 0\n",
        "for match in matches:\n",
        "    if len(match) >1:\n",
        "        print(match)\n",
        "    else:\n",
        "        count += 1\n",
        "\n",
        "\n",
        "if size_of_match == count:\n",
        "    print(-1)\n",
        "\n",
        ""
      ],
      "metadata": {
        "colab": {
          "base_uri": "https://localhost:8080/"
        },
        "id": "0ZRF5v1rMx5T",
        "outputId": "6b3769c5-1d45-4cba-9000-a909e0a1fcc1"
      },
      "execution_count": 2,
      "outputs": [
        {
          "output_type": "stream",
          "name": "stdout",
          "text": [
            "rabcdeefgyYhFjkIoomnpOeorteeeeet\n",
            "ee\n",
            "Ioo\n",
            "Oeo\n",
            "eeeee\n"
          ]
        }
      ]
    },
    {
      "cell_type": "markdown",
      "source": [
        "#### Re.start() & Re.end()"
      ],
      "metadata": {
        "id": "7a5NvTSAV7hy"
      }
    },
    {
      "cell_type": "code",
      "source": [
        "# Enter your code here. Read input from STDIN. Print output to STDOUT\n",
        "import re\n",
        "S = input().strip()\n",
        "k = input().strip()\n",
        "\n",
        "start  = 0\n",
        "found = False\n",
        "\n",
        "for _ in range(len(S)):\n",
        "    match = re.search(k, S[start:])\n",
        "\n",
        "    if match:\n",
        "        start_inx = start + match.start()\n",
        "        end_inx = start + match.end() -1\n",
        "        print((start_inx, end_inx))\n",
        "        found = True\n",
        "\n",
        "        start = start + match.start() + 1\n",
        "\n",
        "    else:\n",
        "        break\n",
        "\n",
        "if not found:\n",
        "    print((-1, -1))\n",
        "\n",
        ""
      ],
      "metadata": {
        "id": "C3o-5ssxMyr7"
      },
      "execution_count": null,
      "outputs": []
    },
    {
      "cell_type": "markdown",
      "source": [
        "#### Regex Substitution"
      ],
      "metadata": {
        "id": "kCHa7BW2WB7y"
      }
    },
    {
      "cell_type": "code",
      "source": [
        "import re\n",
        "\n",
        "N = int(input())\n",
        "for _ in range(N):\n",
        "    input_string = input()\n",
        "\n",
        "    input_string = re.sub(r'(?<!\\S)&&(?=\\s)', 'and', input_string)\n",
        "    input_string = re.sub(r'(?<=\\s)&&(?=\\s|$)', 'and', input_string)\n",
        "    input_string = re.sub(r'(?<!\\S)\\|\\|(?=\\s)', 'or', input_string)\n",
        "    input_string = re.sub(r'(?<=\\s)\\|\\|(?=\\s|$)', 'or', input_string)\n",
        "\n",
        "\n",
        "    print(input_string)"
      ],
      "metadata": {
        "id": "HpVtPSrQsN0e"
      },
      "execution_count": null,
      "outputs": []
    },
    {
      "cell_type": "markdown",
      "source": [
        "\n",
        "#### Validating Roman Numerals\n",
        "\n"
      ],
      "metadata": {
        "id": "W_F-bnuAsPhC"
      }
    },
    {
      "cell_type": "code",
      "source": [
        "regex_pattern = r\"^M{0,3}(CM|CD|D?C{0,3})(XC|XL|L?X{0,3})(IX|IV|V?I{0,3})$\"\t# Do not delete 'r'.\n",
        "\n",
        "import re\n",
        "print(str(bool(re.match(regex_pattern, input()))))"
      ],
      "metadata": {
        "id": "P74dQ1Ovtpip"
      },
      "execution_count": null,
      "outputs": []
    },
    {
      "cell_type": "markdown",
      "source": [
        "#### Validating phone numbers"
      ],
      "metadata": {
        "id": "DtpekZAHtrM2"
      }
    },
    {
      "cell_type": "code",
      "source": [
        "import re\n",
        "N = int(input())\n",
        "regex = r'^[789]\\d{9}$'\n",
        "\n",
        "def isValid(regex_bool):\n",
        "    if regex_bool:\n",
        "        print('YES')\n",
        "\n",
        "    else:\n",
        "        print('NO')\n",
        "\n",
        "\n",
        "for _ in range(N):\n",
        "    phone = input()\n",
        "    regex_bool = bool(re.match(regex, phone))\n",
        "    isValidPhone = isValid(regex_bool)"
      ],
      "metadata": {
        "id": "5erux3Udwpbv"
      },
      "execution_count": null,
      "outputs": []
    },
    {
      "cell_type": "markdown",
      "source": [
        "#### Validating and Parsing Email Addresses"
      ],
      "metadata": {
        "id": "o1CjgDY-wqZs"
      }
    },
    {
      "cell_type": "code",
      "source": [
        "import email.utils\n",
        "\n",
        "n = int(input())\n",
        "\n",
        "for _ in range(n):\n",
        "    email_address = input()\n",
        "\n",
        "    name, email = email.utils.parseaddr(email_address)\n",
        "\n",
        "    if email:\n",
        "      print(email.utils.formataddr((name, email)))\n"
      ],
      "metadata": {
        "colab": {
          "base_uri": "https://localhost:8080/"
        },
        "id": "gZvLch5i1QgY",
        "outputId": "128b180d-e3e2-4a1a-ce19-1c5832ed96d9"
      },
      "execution_count": 3,
      "outputs": [
        {
          "output_type": "stream",
          "name": "stdout",
          "text": [
            "2\n",
            "DEXTER <dexter@hotmail.com>\n",
            "DEXTER <dexter@hotmail.com>\n",
            "VIRUS <virus!@variable.:p>\n",
            "\n"
          ]
        }
      ]
    },
    {
      "cell_type": "code",
      "source": [
        "import re\n",
        "\n",
        "# Read the number of lines of CSS code\n",
        "N = int(input())\n",
        "\n",
        "# Regular expression for valid hex color codes\n",
        "hex_color_regex = r'#[0-9A-Fa-f]{3}(?:[0-9A-Fa-f]{3})?'\n",
        "\n",
        "# Initialize a list to hold valid hex colors\n",
        "valid_hex_colors = []\n",
        "\n",
        "# Iterate through each line of CSS code\n",
        "for _ in range(N):\n",
        "    line = input()\n",
        "\n",
        "    # Find all valid hex color codes in the current line\n",
        "    # Only look for hex codes that are not part of a selector\n",
        "    # By ensuring they are after a property colon (:)\n",
        "    matches = re.findall(r'(?<=:|;|,|\\s)(' + hex_color_regex + r')', line)\n",
        "\n",
        "    # Add found matches to the list\n",
        "    valid_hex_colors.extend(matches)\n",
        "\n",
        "# Print the valid hex colors in the order they were found\n",
        "for color in valid_hex_colors:\n",
        "    print(color)\n"
      ],
      "metadata": {
        "colab": {
          "base_uri": "https://localhost:8080/"
        },
        "id": "mDtjgPD91RF9",
        "outputId": "ae9fc609-c978-4574-c659-915a0f6d56f8"
      },
      "execution_count": 4,
      "outputs": [
        {
          "output_type": "stream",
          "name": "stdout",
          "text": [
            "11\n",
            "#BED\n",
            "{\n",
            "    color: #FfFdF8; background-color:#aef;\n",
            "    font-size: 123px;\n",
            "    background: -webkit-linear-gradient(top, #f9f9f9, #fff);\n",
            "}\n",
            "#Cab\n",
            "{\n",
            "    background-color: #ABC;\n",
            "    border: 2px dashed #fff;\n",
            "}\n",
            "#FfFdF8\n",
            "#aef\n",
            "#f9f9f9\n",
            "#fff\n",
            "#ABC\n",
            "#fff\n"
          ]
        }
      ]
    },
    {
      "cell_type": "markdown",
      "source": [
        "# Built-Ins"
      ],
      "metadata": {
        "id": "LneQYkDPDFCA"
      }
    },
    {
      "cell_type": "markdown",
      "source": [
        "#### Zipped"
      ],
      "metadata": {
        "id": "PNPVPPgMDBgF"
      }
    },
    {
      "cell_type": "code",
      "source": [
        "N, x = map(int, input().split())\n",
        "\n",
        "student_mark_list = []\n",
        "\n",
        "for _ in range(x):\n",
        "\n",
        "    subject = list(map(float, input().split()))\n",
        "\n",
        "    student_mark_list.append(subject)\n",
        "\n",
        "subject_sums = list(sum(subject_marks) for subject_marks in zip(*student_mark_list))\n",
        "\n",
        "average = [total/x for total in subject_sums ]\n",
        "\n",
        "for total in subject_sums:\n",
        "    print(total/x)"
      ],
      "metadata": {
        "id": "XAIEAxsC560Z"
      },
      "execution_count": null,
      "outputs": []
    }
  ]
}